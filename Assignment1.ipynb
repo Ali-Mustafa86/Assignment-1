{
 "cells": [
  {
   "cell_type": "markdown",
   "id": "6b7d80a5",
   "metadata": {},
   "source": [
    "# Assignment No. 1 Python "
   ]
  },
  {
   "cell_type": "code",
   "execution_count": 1,
   "id": "0c5d1d8f",
   "metadata": {},
   "outputs": [
    {
     "name": "stdout",
     "output_type": "stream",
     "text": [
      "Twinkle, twinkle, little Star\n",
      "\t How, I wonder what you are\n",
      "\t \t up above the world so high\n",
      "\t \t like a diamond in the sky\n",
      "Twinkle, twinkle, little Star\n",
      "\t How, I wonder what you are\n"
     ]
    }
   ],
   "source": [
    "print (\"Twinkle, twinkle, little Star\");\n",
    "print (\"\\t How, I wonder what you are\");\n",
    "print (\"\\t \\t up above the world so high\");\n",
    "print (\"\\t \\t like a diamond in the sky\");\n",
    "print (\"Twinkle, twinkle, little Star\");\n",
    "print (\"\\t How, I wonder what you are\");\n"
   ]
  },
  {
   "cell_type": "code",
   "execution_count": 2,
   "id": "99fdd4ff",
   "metadata": {},
   "outputs": [
    {
     "name": "stdout",
     "output_type": "stream",
     "text": [
      "3.9.7 (default, Sep 16 2021, 16:59:28) [MSC v.1916 64 bit (AMD64)]\n"
     ]
    }
   ],
   "source": [
    "import sys\n",
    "print (sys.version);\n"
   ]
  },
  {
   "cell_type": "code",
   "execution_count": 3,
   "id": "40343c53",
   "metadata": {},
   "outputs": [
    {
     "name": "stdout",
     "output_type": "stream",
     "text": [
      "The Current time is:  10:29:32.285279\n"
     ]
    }
   ],
   "source": [
    "from datetime import date\n",
    "from datetime import time\n",
    "from datetime import datetime\n",
    "today = datetime.now()\n",
    "currenttime = datetime.time(datetime.today())\n",
    "print(\"The Current time is: \", currenttime)\n"
   ]
  },
  {
   "cell_type": "code",
   "execution_count": 4,
   "id": "2fbcf037",
   "metadata": {},
   "outputs": [
    {
     "name": "stdout",
     "output_type": "stream",
     "text": [
      "Enter the value of Radius= 5\n",
      "Area of circle =  78.5\n"
     ]
    }
   ],
   "source": [
    "pi=3.14\n",
    "rad=int (input(\"Enter the value of Radius= \"))\n",
    "area = pi*rad*rad;\n",
    "print (\"Area of circle = \", area);\n"
   ]
  },
  {
   "cell_type": "code",
   "execution_count": 5,
   "id": "7f6ed4e9",
   "metadata": {},
   "outputs": [
    {
     "name": "stdout",
     "output_type": "stream",
     "text": [
      "Enter your first nameAli \n",
      "Enter your last nameMustafa\n",
      "Ali    Mustafa\n",
      "Reverse order\n",
      "Mustafa  Ali \n"
     ]
    }
   ],
   "source": [
    "fname= input(\"Enter your first name\");\n",
    "lname= input(\"Enter your last name\");\n",
    "print (fname, \" \", lname),\n",
    "print (\"Reverse order\");\n",
    "print (lname,\"\", fname);\n"
   ]
  },
  {
   "cell_type": "code",
   "execution_count": 6,
   "id": "b89ab97a",
   "metadata": {},
   "outputs": [
    {
     "name": "stdout",
     "output_type": "stream",
     "text": [
      "Enter first number10\n",
      "Enter second number12\n",
      "sum of values =  22\n"
     ]
    }
   ],
   "source": [
    "firstval = int(input (\"Enter first number\"));\n",
    "secondval= int(input(\"Enter second number\"));\n",
    "sum = firstval+secondval;\n",
    "print (\"sum of values = \", sum);\n"
   ]
  }
 ],
 "metadata": {
  "kernelspec": {
   "display_name": "Python 3 (ipykernel)",
   "language": "python",
   "name": "python3"
  },
  "language_info": {
   "codemirror_mode": {
    "name": "ipython",
    "version": 3
   },
   "file_extension": ".py",
   "mimetype": "text/x-python",
   "name": "python",
   "nbconvert_exporter": "python",
   "pygments_lexer": "ipython3",
   "version": "3.9.7"
  }
 },
 "nbformat": 4,
 "nbformat_minor": 5
}
